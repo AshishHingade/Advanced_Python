{
 "cells": [
  {
   "cell_type": "code",
   "execution_count": 3,
   "metadata": {},
   "outputs": [],
   "source": [
    "def cel (num):\n",
    "    \"\"\" This fun used for fahrenheit_to_celsius conversion\"\"\"\n",
    "    d=((num-32)*5/9)\n",
    "    return d"
   ]
  },
  {
   "cell_type": "code",
   "execution_count": 4,
   "metadata": {},
   "outputs": [
    {
     "data": {
      "text/plain": [
       "28.333333333333332"
      ]
     },
     "execution_count": 4,
     "metadata": {},
     "output_type": "execute_result"
    }
   ],
   "source": [
    "cel (83)"
   ]
  },
  {
   "cell_type": "code",
   "execution_count": 5,
   "metadata": {},
   "outputs": [],
   "source": [
    "def far(cel):\n",
    "    ''' This fun is used for celssious to fahrenheit conversion'''\n",
    "    e=cel*(9/5)+32\n",
    "    return e"
   ]
  },
  {
   "cell_type": "code",
   "execution_count": 6,
   "metadata": {},
   "outputs": [
    {
     "data": {
      "text/plain": [
       "83.00012000000001"
      ]
     },
     "execution_count": 6,
     "metadata": {},
     "output_type": "execute_result"
    }
   ],
   "source": [
    "far(28.3334)"
   ]
  },
  {
   "cell_type": "code",
   "execution_count": 7,
   "metadata": {},
   "outputs": [],
   "source": [
    "def fact(n):\n",
    "    f=n*(n-1)*(n-2)*(n-3)*(n-4)\n",
    "    return f"
   ]
  },
  {
   "cell_type": "code",
   "execution_count": 8,
   "metadata": {},
   "outputs": [
    {
     "data": {
      "text/plain": [
       "120"
      ]
     },
     "execution_count": 8,
     "metadata": {},
     "output_type": "execute_result"
    }
   ],
   "source": [
    "fact(5)"
   ]
  },
  {
   "cell_type": "code",
   "execution_count": 9,
   "metadata": {},
   "outputs": [
    {
     "data": {
      "text/plain": [
       "720"
      ]
     },
     "execution_count": 9,
     "metadata": {},
     "output_type": "execute_result"
    }
   ],
   "source": [
    "fact(6)"
   ]
  },
  {
   "cell_type": "code",
   "execution_count": 15,
   "metadata": {},
   "outputs": [
    {
     "data": {
      "text/plain": [
       "362880"
      ]
     },
     "execution_count": 15,
     "metadata": {},
     "output_type": "execute_result"
    }
   ],
   "source": [
    "9*8*7*6*5*4*3*2*1"
   ]
  },
  {
   "cell_type": "code",
   "execution_count": 11,
   "metadata": {},
   "outputs": [
    {
     "data": {
      "text/plain": [
       "30240"
      ]
     },
     "execution_count": 11,
     "metadata": {},
     "output_type": "execute_result"
    }
   ],
   "source": [
    "fact(10)"
   ]
  },
  {
   "cell_type": "code",
   "execution_count": 12,
   "metadata": {},
   "outputs": [],
   "source": [
    "def count_vowels(string):\n",
    "  \"\"\"Counts the number of vowels in a string\"\"\"\n",
    "  vowels = set('aeiouAEIOU')\n",
    "  count = 0\n",
    "\n",
    "  for c in string:\n",
    "    if c in vowels:\n",
    "      count += 1\n",
    "\n",
    "  return count"
   ]
  },
  {
   "cell_type": "code",
   "execution_count": 13,
   "metadata": {},
   "outputs": [
    {
     "data": {
      "text/plain": [
       "17"
      ]
     },
     "execution_count": 13,
     "metadata": {},
     "output_type": "execute_result"
    }
   ],
   "source": [
    "count_vowels(\"not a git repository  any of the parent directories\")"
   ]
  },
  {
   "cell_type": "code",
   "execution_count": 17,
   "metadata": {},
   "outputs": [],
   "source": [
    "# calculate EMI \n",
    "def calculate_EMI(P,N,R):\n",
    "    # Calculate N from year to month\n",
    "    n=N*12\n",
    "    # Calculate R from %p.a to %p.m\n",
    "    r=R/(12*100)\n",
    "    #EMI calculation \n",
    "    x=(1+r)**n\n",
    "    EMI=P*r*x/(x-1)\n",
    "    return EMI\n"
   ]
  },
  {
   "cell_type": "code",
   "execution_count": 18,
   "metadata": {},
   "outputs": [
    {
     "data": {
      "text/plain": [
       "18002.5209313727"
      ]
     },
     "execution_count": 18,
     "metadata": {},
     "output_type": "execute_result"
    }
   ],
   "source": [
    "calculate_EMI(1500000,15,12)"
   ]
  },
  {
   "cell_type": "markdown",
   "metadata": {},
   "source": [
    "### Marks wise grade \n",
    "more than 90: A\n",
    "80-89 :B\n",
    "70-79: C\n",
    "60-69: D\n",
    "Below 60: F "
   ]
  },
  {
   "cell_type": "code",
   "execution_count": 22,
   "metadata": {},
   "outputs": [],
   "source": [
    "def get_grde(*marks):\n",
    "    gr=[]\n",
    "    for i in marks:\n",
    "        if i>=90:\n",
    "            gr.append(\"A\")\n",
    "        elif i>80 and i<89:\n",
    "            gr.append(\"B\")\n",
    "        elif i>70 and i<79:\n",
    "            gr.append(\"C\")\n",
    "        elif i>60 and i<69:\n",
    "            gr.append(\"D\")\n",
    "        else:\n",
    "            gr.append(\"F\")\n",
    "    return gr"
   ]
  },
  {
   "cell_type": "code",
   "execution_count": 24,
   "metadata": {},
   "outputs": [
    {
     "data": {
      "text/plain": [
       "['F', 'A', 'D', 'D', 'F', 'A']"
      ]
     },
     "execution_count": 24,
     "metadata": {},
     "output_type": "execute_result"
    }
   ],
   "source": [
    "get_grde(55,99,66,65,33,120)"
   ]
  },
  {
   "cell_type": "code",
   "execution_count": 25,
   "metadata": {},
   "outputs": [],
   "source": [
    "### Marks analyze"
   ]
  },
  {
   "cell_type": "code",
   "execution_count": 28,
   "metadata": {},
   "outputs": [],
   "source": [
    "import pandas as pd"
   ]
  },
  {
   "cell_type": "code",
   "execution_count": 35,
   "metadata": {},
   "outputs": [],
   "source": [
    "def marks_anal(*marks):\n",
    "    # Find average of marks\n",
    "    s=sum(marks)\n",
    "    c=len(marks)\n",
    "    avg=s/c\n",
    "    high=max(marks)\n",
    "    low=min(marks)\n",
    "\n",
    "    # no of student Passed\n",
    "    p=0\n",
    "    f=0\n",
    "    for i in marks:\n",
    "        if i>=60:\n",
    "            p=p+1\n",
    "        else:\n",
    "            f=f+1\n",
    "    # Create dictioary\n",
    "    dict={'Average':[avg],\n",
    "         'Highest_Marks':[high],\n",
    "         'Lowest_Marks':[low],\n",
    "         'No_of_pass':[p],\n",
    "         'No_of_fail':[f]}\n",
    "    # convert data frme\n",
    "    df=pd.DataFrame(dict)\n",
    "    \n",
    "    return df"
   ]
  },
  {
   "cell_type": "code",
   "execution_count": 36,
   "metadata": {},
   "outputs": [
    {
     "data": {
      "text/html": [
       "<div>\n",
       "<style scoped>\n",
       "    .dataframe tbody tr th:only-of-type {\n",
       "        vertical-align: middle;\n",
       "    }\n",
       "\n",
       "    .dataframe tbody tr th {\n",
       "        vertical-align: top;\n",
       "    }\n",
       "\n",
       "    .dataframe thead th {\n",
       "        text-align: right;\n",
       "    }\n",
       "</style>\n",
       "<table border=\"1\" class=\"dataframe\">\n",
       "  <thead>\n",
       "    <tr style=\"text-align: right;\">\n",
       "      <th></th>\n",
       "      <th>Average</th>\n",
       "      <th>Highest_Marks</th>\n",
       "      <th>Lowest_Marks</th>\n",
       "      <th>No_of_pass</th>\n",
       "      <th>No_of_fail</th>\n",
       "    </tr>\n",
       "  </thead>\n",
       "  <tbody>\n",
       "    <tr>\n",
       "      <th>0</th>\n",
       "      <td>68.0</td>\n",
       "      <td>99</td>\n",
       "      <td>23</td>\n",
       "      <td>4</td>\n",
       "      <td>2</td>\n",
       "    </tr>\n",
       "  </tbody>\n",
       "</table>\n",
       "</div>"
      ],
      "text/plain": [
       "   Average  Highest_Marks  Lowest_Marks  No_of_pass  No_of_fail\n",
       "0     68.0             99            23           4           2"
      ]
     },
     "execution_count": 36,
     "metadata": {},
     "output_type": "execute_result"
    }
   ],
   "source": [
    "marks_anal(44,89,23,99,86,67)"
   ]
  }
 ],
 "metadata": {
  "kernelspec": {
   "display_name": "venv",
   "language": "python",
   "name": "python3"
  },
  "language_info": {
   "codemirror_mode": {
    "name": "ipython",
    "version": 3
   },
   "file_extension": ".py",
   "mimetype": "text/x-python",
   "name": "python",
   "nbconvert_exporter": "python",
   "pygments_lexer": "ipython3",
   "version": "3.11.6"
  },
  "orig_nbformat": 4
 },
 "nbformat": 4,
 "nbformat_minor": 2
}
